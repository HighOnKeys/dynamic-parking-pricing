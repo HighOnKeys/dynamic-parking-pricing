{
  "nbformat": 4,
  "nbformat_minor": 0,
  "metadata": {
    "colab": {
      "provenance": []
    },
    "kernelspec": {
      "name": "python3",
      "display_name": "Python 3"
    },
    "language_info": {
      "name": "python"
    }
  },
  "cells": [
    {
      "cell_type": "markdown",
      "source": [
        "# Install and Import Dependencies"
      ],
      "metadata": {
        "id": "LSGgeLKwYHsW"
      }
    },
    {
      "cell_type": "code",
      "source": [
        "!pip install pathway bokeh --quiet"
      ],
      "metadata": {
        "id": "5mzCBNMNeyeY"
      },
      "execution_count": null,
      "outputs": []
    },
    {
      "cell_type": "code",
      "source": [
        "#suppress specific user warnings from Bokeh\n",
        "import warnings\n",
        "warnings.filterwarnings(\"ignore\", category=UserWarning, module='bokeh')\n",
        "\n",
        "#core Libraries\n",
        "import numpy as np\n",
        "import pandas as pd\n",
        "import matplotlib.pyplot as plt\n",
        "import seaborn as sns\n",
        "import datetime\n",
        "from datetime import datetime\n",
        "\n",
        "#Pathway & Bokeh\n",
        "import pathway as pw\n",
        "import bokeh.plotting\n",
        "import panel as pn\n"
      ],
      "metadata": {
        "id": "roWSfyfxYclF"
      },
      "execution_count": null,
      "outputs": []
    },
    {
      "cell_type": "markdown",
      "source": [],
      "metadata": {
        "id": "G__g4T2tmzOn"
      }
    },
    {
      "cell_type": "markdown",
      "source": [
        "# Load and Preprocess Parking Dataset"
      ],
      "metadata": {
        "id": "Zg0jnPt3Yx6d"
      }
    },
    {
      "cell_type": "code",
      "source": [
        "#load the dataset\n",
        "df = pd.read_csv('/content/dataset.csv')\n",
        "df.head()\n"
      ],
      "metadata": {
        "id": "uSO1VOOqY0nW"
      },
      "execution_count": null,
      "outputs": []
    },
    {
      "cell_type": "code",
      "source": [
        "#check for missing values\n",
        "df.isna().sum()\n"
      ],
      "metadata": {
        "id": "HPgFfPUyY4Ru"
      },
      "execution_count": null,
      "outputs": []
    },
    {
      "cell_type": "code",
      "source": [
        "#combine date and time columns into a single datetime column\n",
        "df['Timestamp'] = pd.to_datetime(\n",
        "    df['LastUpdatedDate'] + ' ' + df['LastUpdatedTime'],\n",
        "    format='%d-%m-%Y %H:%M:%S'\n",
        ")\n",
        "\n",
        "#sort records by timestamp\n",
        "df = df.sort_values('Timestamp').reset_index(drop=True)\n",
        "\n",
        "#compute occupancy rate\n",
        "df[\"OccupancyRate\"] = df[\"Occupancy\"] / df[\"Capacity\"]\n",
        "\n",
        "#preview processed data\n",
        "df.head()\n"
      ],
      "metadata": {
        "id": "3HFkgN8uY7dY"
      },
      "execution_count": null,
      "outputs": []
    },
    {
      "cell_type": "markdown",
      "source": [
        "# Export Streamable Subset for Pathway"
      ],
      "metadata": {
        "id": "Qwzag6pXZA3t"
      }
    },
    {
      "cell_type": "code",
      "source": [
        "#save selected columns to a CSV to simulate a data stream\n",
        "df[[\"SystemCodeNumber\",\"Timestamp\", \"Occupancy\", \"Capacity\", \"OccupancyRate\"]].to_csv(\"parking_stream.csv\", index=False)\n"
      ],
      "metadata": {
        "id": "ejL0Id95ZCWP"
      },
      "execution_count": null,
      "outputs": []
    },
    {
      "cell_type": "markdown",
      "source": [
        "# Define Schema and Load Streaming Data with Pathway"
      ],
      "metadata": {
        "id": "uAyNyCMGZHSH"
      }
    },
    {
      "cell_type": "code",
      "source": [
        "#define schema for Pathway ingestion\n",
        "class ParkingSchema(pw.Schema):\n",
        "    SystemCodeNumber: str\n",
        "    Timestamp: str\n",
        "    Occupancy: int\n",
        "    Capacity: int\n",
        "    OccupancyRate: float\n",
        "\n",
        "#load data with simulated stream rate\n",
        "data = pw.demo.replay_csv(\"parking_stream.csv\", schema=ParkingSchema, input_rate=100)\n"
      ],
      "metadata": {
        "id": "Ioqc2vs-ZKdz"
      },
      "execution_count": null,
      "outputs": []
    },
    {
      "cell_type": "markdown",
      "source": [
        "# Convert Time Columns and Create Daily Lot Identifiers"
      ],
      "metadata": {
        "id": "sFVVt7v4ZO_4"
      }
    },
    {
      "cell_type": "code",
      "source": [
        "fmt = \"%Y-%m-%d %H:%M:%S\"\n",
        "\n",
        "data_with_time = data.with_columns(\n",
        "    t = data.Timestamp.dt.strptime(fmt),\n",
        "    day = data.Timestamp.dt.strptime(fmt).dt.strftime(\"%Y-%m-%d\"),\n",
        "    OccupancyRate = data.Occupancy / data.Capacity,\n",
        "    day_id = data.Timestamp.dt.strptime(fmt).dt.strftime(\"%Y-%m-%d\") + \"_\" + data.SystemCodeNumber,\n",
        ")\n",
        "\n",
        "#create lookup table of unique lot-day combinations\n",
        "id_lookup = (\n",
        "    data_with_time\n",
        "    .select(pw.this.day_id, pw.this.SystemCodeNumber)\n",
        "    .groupby(pw.this.day_id)\n",
        "    .reduce(\n",
        "        day_id = pw.reducers.min(pw.this.day_id),\n",
        "        SystemCodeNumber = pw.reducers.min(pw.this.SystemCodeNumber)\n",
        "    )\n",
        ")\n"
      ],
      "metadata": {
        "id": "eTIjZ7upZSLR"
      },
      "execution_count": null,
      "outputs": []
    },
    {
      "cell_type": "markdown",
      "source": [
        "# Aggregate Daily Occupancy Stats and Compute Dynamic Price"
      ],
      "metadata": {
        "id": "GwwNbTYTZXKy"
      }
    },
    {
      "cell_type": "code",
      "source": [
        "import datetime\n",
        "\n",
        "#daily rolling window aggregation\n",
        "reduced = (\n",
        "    data_with_time.windowby(\n",
        "        pw.this.t,\n",
        "        instance=pw.this.day_id,\n",
        "        window=pw.temporal.tumbling(datetime.timedelta(days=1)),\n",
        "        behavior=pw.temporal.exactly_once_behavior()\n",
        "    )\n",
        "    .reduce(\n",
        "        t = pw.this._pw_window_end,\n",
        "        occ_max = pw.reducers.max(pw.this.OccupancyRate),\n",
        "        occ_min = pw.reducers.min(pw.this.OccupancyRate),\n",
        "        cap = pw.reducers.max(pw.this.Capacity),\n",
        "        day_id = pw.reducers.min(pw.this.day_id),\n",
        "        lot = pw.reducers.min(pw.this.SystemCodeNumber)\n",
        "    )\n",
        ")\n",
        "\n",
        "#pricing formula: base price + scaled volatility\n",
        "delta_window = reduced.with_columns(\n",
        "    price = 10 + (pw.this.occ_max - pw.this.occ_min) / pw.this.cap\n",
        ")\n"
      ],
      "metadata": {
        "id": "FFNi8--GZmMx"
      },
      "execution_count": null,
      "outputs": []
    },
    {
      "cell_type": "markdown",
      "source": [
        "# Live Streaming Plot using Panel and Bokeh"
      ],
      "metadata": {
        "id": "lvecUrTMZrrh"
      }
    },
    {
      "cell_type": "code",
      "source": [
        "pn.extension()\n",
        "\n",
        "#define interactive Bokeh plot\n",
        "def price_plotter(source):\n",
        "    fig = bokeh.plotting.figure(\n",
        "        height=400,\n",
        "        width=800,\n",
        "        title=\"Pathway: Daily Parking Price\",\n",
        "        x_axis_type=\"datetime\",\n",
        "    )\n",
        "\n",
        "    fig.line(\"t\", \"price\", source=source, line_width=2, color=\"navy\")\n",
        "    fig.scatter(\"t\", \"price\", source=source, size=6, color=\"red\", marker=\"circle\")\n",
        "\n",
        "    fig.xaxis.axis_label = \"Time\"\n",
        "    fig.yaxis.axis_label = \"Price ($)\"\n",
        "    return fig\n",
        "\n",
        "#launch panel dashboard\n",
        "viz = delta_window.plot(price_plotter, sorting_col=\"t\")\n",
        "pn.Column(viz).servable()\n",
        "viz.servable()\n"
      ],
      "metadata": {
        "id": "kf9qeYRRZvkQ"
      },
      "execution_count": null,
      "outputs": []
    },
    {
      "cell_type": "markdown",
      "source": [
        "# Export Real-Time Price Output to JSON Lines"
      ],
      "metadata": {
        "id": "311GJG1nZ0AV"
      }
    },
    {
      "cell_type": "code",
      "source": [
        "#write output to file for post-processing and visualization\n",
        "pw.io.jsonlines.write(\n",
        "    delta_window.select(\n",
        "        pw.this.t,\n",
        "        pw.this.lot,\n",
        "        pw.this.price\n",
        "    ),\n",
        "    \"pricing_output.jsonl\"\n",
        ")\n",
        "\n",
        "#run Pathway app\n",
        "pw.run()\n"
      ],
      "metadata": {
        "id": "1Z8A2fzfZ4gH"
      },
      "execution_count": null,
      "outputs": []
    },
    {
      "cell_type": "markdown",
      "source": [
        "# Post-Run Visualization by Lot (Multiple Plots)"
      ],
      "metadata": {
        "id": "HfFJ59VLZ-ak"
      }
    },
    {
      "cell_type": "code",
      "source": [
        "from bokeh.plotting import figure, show, output_notebook\n",
        "from bokeh.layouts import column\n",
        "from bokeh.models import ColumnDataSource, HoverTool\n",
        "from bokeh.palettes import Category10\n",
        "\n",
        "output_notebook()\n",
        "\n",
        "#read saved prices\n",
        "df_price = pd.read_json(\"pricing_output.jsonl\", lines=True)\n",
        "df_price[\"t\"] = pd.to_datetime(df_price[\"t\"])\n",
        "df_price[\"lot\"] = df_price[\"lot\"].astype(str)\n",
        "\n",
        "plots = []\n",
        "lots = sorted(df_price[\"lot\"].unique())\n",
        "palette = Category10[10] + Category10[4]\n",
        "\n",
        "for i, lot in enumerate(lots):\n",
        "    df_lot = df_price[df_price[\"lot\"] == lot].copy()\n",
        "    source = ColumnDataSource(df_lot[[\"t\", \"price\", \"lot\"]])\n",
        "\n",
        "    fig = figure(\n",
        "        height=300,\n",
        "        width=800,\n",
        "        title=f\"Price Trend - Lot {lot}\",\n",
        "        x_axis_type=\"datetime\",\n",
        "        tools=\"pan,wheel_zoom,box_zoom,reset\"\n",
        "    )\n",
        "\n",
        "    fig.line(\"t\", \"price\", source=source, color=palette[i % len(palette)], line_width=2)\n",
        "    fig.scatter(\"t\", \"price\", source=source, size=5, marker=\"circle\", color=\"black\")\n",
        "\n",
        "    hover = HoverTool(\n",
        "        tooltips=[\n",
        "            (\"Lot\", \"@lot\"),\n",
        "            (\"Time\", \"@t{%F %T}\"),\n",
        "            (\"Price\", \"@price{$0.00}\")\n",
        "        ],\n",
        "        formatters={\"@t\": \"datetime\"},\n",
        "        mode=\"vline\"\n",
        "    )\n",
        "    fig.add_tools(hover)\n",
        "\n",
        "    fig.xaxis.axis_label = \"Time\"\n",
        "    fig.yaxis.axis_label = \"Price ($)\"\n",
        "\n",
        "    plots.append(fig)\n",
        "\n",
        "show(column(*plots))\n"
      ],
      "metadata": {
        "id": "r0E1nHLzDnEl"
      },
      "execution_count": null,
      "outputs": []
    },
    {
      "cell_type": "markdown",
      "source": [
        "# Final Summary Plot: All Lots Combined"
      ],
      "metadata": {
        "id": "c2lYpXnOaOA8"
      }
    },
    {
      "cell_type": "code",
      "source": [
        "from bokeh.plotting import figure, show, output_notebook\n",
        "from bokeh.models import ColumnDataSource, HoverTool\n",
        "from bokeh.palettes import Category10\n",
        "\n",
        "output_notebook()\n",
        "\n",
        "#normalize datetime precision\n",
        "df = pd.read_json(\"pricing_output.jsonl\", lines=True)\n",
        "df[\"t\"] = pd.to_datetime(df[\"t\"]).dt.tz_localize(None)\n",
        "df[\"t\"] = df[\"t\"].astype(\"datetime64[ms]\")\n",
        "df[\"lot\"] = df[\"lot\"].astype(str)\n",
        "\n",
        "#create combined figure\n",
        "fig = figure(\n",
        "    height=500,\n",
        "    width=900,\n",
        "    title=\"Daily Pricing Across Parking Lots\",\n",
        "    x_axis_type=\"datetime\"\n",
        ")\n",
        "\n",
        "palette = Category10[10] + Category10[4]\n",
        "lots = sorted(df[\"lot\"].unique())\n",
        "\n",
        "for i, lot in enumerate(lots):\n",
        "    df_lot = df[df[\"lot\"] == lot].copy()\n",
        "    source = ColumnDataSource(df_lot[[\"t\", \"price\", \"lot\"]])\n",
        "\n",
        "    fig.line(\"t\", \"price\", source=source, legend_label=f\"Lot {lot}\",\n",
        "             color=palette[i % len(palette)], line_width=2)\n",
        "\n",
        "#add interactive hover tool\n",
        "hover = HoverTool(\n",
        "    tooltips=[\n",
        "        (\"Lot\", \"@lot\"),\n",
        "        (\"Time\", \"@t{%F %T}\"),\n",
        "        (\"Price\", \"@price{$0.00}\")\n",
        "    ],\n",
        "    formatters={\"@t\": \"datetime\"},\n",
        "    mode=\"vline\"\n",
        ")\n",
        "fig.add_tools(hover)\n",
        "\n",
        "fig.xaxis.axis_label = \"Time\"\n",
        "fig.yaxis.axis_label = \"Price ($)\"\n",
        "fig.legend.label_text_font_size = \"8pt\"\n",
        "\n",
        "#show plot\n",
        "show(fig)\n"
      ],
      "metadata": {
        "id": "oAQEEO9yaR4n"
      },
      "execution_count": null,
      "outputs": []
    }
  ]
}